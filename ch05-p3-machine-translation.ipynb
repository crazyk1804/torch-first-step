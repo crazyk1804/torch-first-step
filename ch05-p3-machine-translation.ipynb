{
 "cells": [
  {
   "cell_type": "code",
   "execution_count": 4,
   "metadata": {},
   "outputs": [],
   "source": [
    "import torch\n",
    "from torch import nn, optim\n",
    "from torch.utils.data import TensorDataset, Dataset, DataLoader\n",
    "from tqdm import tqdm\n",
    "\n",
    "import re\n",
    "import collections\n",
    "import itertools"
   ]
  },
  {
   "cell_type": "code",
   "execution_count": 5,
   "metadata": {},
   "outputs": [],
   "source": [
    "remove_marks_regex = re.compile('[\\,\\(\\)\\[\\]\\*:;¿¡]|<.*?>') # 불필요한 문자\n",
    "shift_marks_regex = re.compile('([?!\\.])') # 공백 추가할 문자\n",
    "\n",
    "unk = 0\n",
    "sos = 1\n",
    "eos = 2\n",
    "\n",
    "\n",
    "def normalize(text):\n",
    "    text = text.lower()\n",
    "    text = remove_marks_regex.sub('', text)\n",
    "    text = shift_marks_regex.sub(r' \\1', text)\n",
    "    return text\n",
    "\n",
    "\n",
    "def parse_line(line):\n",
    "    line = normalize(line.strip())\n",
    "    src, trg, _ = line.split('\\t')\n",
    "    src_tokens = src.strip().split()\n",
    "    trg_tokens = trg.strip().split()\n",
    "    return src_tokens, trg_tokens\n",
    "\n",
    "\n",
    "def build_vocab(tokens):\n",
    "    # 파일 안의 모든 문장에서 토큰의 등장 횟수를 확인\n",
    "    counts = collections.Counter(tokens)\n",
    "    # 토큰의 등장 횟수를 많은 순으로 나열\n",
    "    sorted_counts = sorted(counts.items(), key=lambda c: c[1], reverse=True)\n",
    "    # 세개의 태그를 추가해서 정방향 리스트와 역방향 용어집 만들기\n",
    "    list_word = ['<UNK>', '<SOS>', '<EOS>'] + [x[0] for x in sorted_counts]\n",
    "    dict_word = {w:i for i, w in enumerate(list_word)}\n",
    "    \n",
    "    return list_word, dict_word\n",
    "\n",
    "def words2tensor(words, word_dict, max_len, padding=0):\n",
    "    # <EOS>는 2\n",
    "    words = words + ['<EOS>'] # 종료태그\n",
    "    words = [word_dict.get(w, 0) for w in words]\n",
    "    seq_len = len(words)\n",
    "    if seq_len < max_len + 1:\n",
    "        words = words + [padding] * (max_len + 1 - seq_len)\n",
    "    \n",
    "    return torch.tensor(words, dtype=torch.int64), seq_len"
   ]
  },
  {
   "cell_type": "code",
   "execution_count": 6,
   "metadata": {},
   "outputs": [],
   "source": [
    "class TranslationPairDataset(Dataset):\n",
    "    def __init__(self, path, max_len=15):\n",
    "        def filter_pair(p):\n",
    "            return not (len(p[0]) > max_len or len(p[1]) > max_len)\n",
    "        \n",
    "        with open(path) as fp:\n",
    "            pairs = map(parse_line, fp)\n",
    "            pairs = filter(filter_pair, pairs)\n",
    "            pairs = list(pairs)\n",
    "        \n",
    "        src = [p[0] for p in pairs]\n",
    "        trg = [p[1] for p in pairs]\n",
    "        \n",
    "        # 각각 어휘집 작성\n",
    "        self.list_src_word, self.dict_src_word = build_vocab(\n",
    "            itertools.chain.from_iterable(src)\n",
    "        )\n",
    "        self.list_trg_word, self.dict_trg_word = build_vocab(\n",
    "            itertools.chain.from_iterable(trg)\n",
    "        )\n",
    "        \n",
    "        self.src_data = [words2tensor(words, self.dict_src_word, max_len) for words in src]\n",
    "        self.trg_data = [words2tensor(words, self.dict_trg_word, max_len) for words in trg]\n",
    "        \n",
    "    def __len__(self):\n",
    "        return len(self.src_data)\n",
    "    \n",
    "    def __getitem__(self, idx):\n",
    "        src, lsrc = self.src_data[idx]\n",
    "        trg, ltrg = self.trg_data[idx]\n",
    "        \n",
    "        return src, lsrc, trg, ltrg"
   ]
  },
  {
   "cell_type": "code",
   "execution_count": 8,
   "metadata": {},
   "outputs": [],
   "source": [
    "batch_size = 64\n",
    "max_len = 10\n",
    "path_data = 'data/spa-eng/spa.txt'\n",
    "ds = TranslationPairDataset(path_data, max_len=max_len)\n",
    "loader = DataLoader(ds, batch_size=batch_size, shuffle=True)"
   ]
  },
  {
   "cell_type": "code",
   "execution_count": 13,
   "metadata": {},
   "outputs": [],
   "source": [
    "class Encoder(nn.Module):\n",
    "    def __init__(\n",
    "        self,\n",
    "        num_embeddings,\n",
    "        embedding_dim=50,\n",
    "        hidden_size=50,\n",
    "        num_layers=1,\n",
    "        dropout=.2\n",
    "    ):\n",
    "        super().__init__()\n",
    "        self.emb = nn.Embedding(num_embeddings, embedding_dim, padding_idx=0)\n",
    "        self.lstm = nn.LSTM(\n",
    "            embedding_dim, hidden_size, num_layers, batch_first=True, dropout=dropout\n",
    "        )\n",
    "        \n",
    "    def forward(self, x, h0=None, l=None):\n",
    "        x = self.emb(x)\n",
    "        if l is not None:\n",
    "            x = nn.utils.rnn.pack_padded_sequence(x, l, batch_first=True)\n",
    "        _, h = self.lstm(x, h0)\n",
    "        \n",
    "        return h"
   ]
  },
  {
   "cell_type": "code",
   "execution_count": 55,
   "metadata": {},
   "outputs": [],
   "source": [
    "class Decoder(nn.Module):\n",
    "    def __init__(\n",
    "        self,\n",
    "        num_embeddings,\n",
    "        embedding_dim=50,\n",
    "        hidden_size=50,\n",
    "        num_layers=1,\n",
    "        dropout=.2\n",
    "    ):\n",
    "        super().__init__()\n",
    "        self.emb =  nn.Embedding(num_embeddings, embedding_dim, padding_idx=0)\n",
    "        self.lstm = nn.LSTM(\n",
    "            embedding_dim, hidden_size, num_layers, batch_first=True, dropout=dropout\n",
    "        )\n",
    "        self.linear = nn.Linear(hidden_size, num_embeddings)\n",
    "        \n",
    "    def forward(self, x, h, l=None):\n",
    "        # print(f'x shape: {x.shape}')\n",
    "        x = self.emb(x)\n",
    "        # print(f'x shape: {x.shape}')\n",
    "        if l is not None:\n",
    "            x = nn.utils.rnn.pack_padded_sequence(x, l, batch_first=True)\n",
    "        # print(f'x shape: {x.shape}')\n",
    "        x, h = self.lstm(x, h)\n",
    "        if l is not None:\n",
    "            x = nn.utils.rnn.pack_padded_sequence(x, batch_first=True, padding_value=0)[0]\n",
    "        # print(f'x shape: {x.shape}')\n",
    "        x = self.linear(x)\n",
    "        # print(f'x shape: {x.shape}')\n",
    "        return x, h"
   ]
  },
  {
   "cell_type": "code",
   "execution_count": 69,
   "metadata": {},
   "outputs": [],
   "source": [
    "def translate(input_str, enc, dec, max_len=15, device='cpu'):\n",
    "    words = normalize(input_str).split()\n",
    "    input_tensor, seq_len = words2tensor(words, ds.dict_src_word, max_len=max_len)\n",
    "    input_tensor = input_tensor.unsqueeze(0)\n",
    "    seq_len = [seq_len]\n",
    "    \n",
    "    # sos 어디서 튀어나온건지...\n",
    "    sos_inputs = torch.tensor(sos, dtype=torch.int64)\n",
    "    input_tensor = input_tensor.to(device)\n",
    "    sos_inputs = sos_inputs.to(device)\n",
    "    \n",
    "    ctx = enc(input_tensor, l=seq_len)\n",
    "    z = sos_inputs\n",
    "    h = ctx\n",
    "    results = []\n",
    "    \n",
    "    # print('h: ', h[0].shape)\n",
    "    for i in range(max_len):\n",
    "        # print(z.view(1, 1))\n",
    "        o, h = dec(z.view(1, 1), h)\n",
    "        # print(o.shape)\n",
    "        wi = o.detach().view(-1).max(0)[1]\n",
    "        # print(f'wi shape: {wi} - {wi.shape}')\n",
    "        \n",
    "        if wi.item() == eos:\n",
    "            break\n",
    "        results.append(wi.item())\n",
    "        z = wi\n",
    "        \n",
    "    return ' '.join(ds.list_trg_word[i] for i in results)\n",
    "    \n",
    "    "
   ]
  },
  {
   "cell_type": "code",
   "execution_count": 70,
   "metadata": {},
   "outputs": [
    {
     "data": {
      "text/plain": [
       "'dispararan tropezó beicon güey leerse leerse verte verte avaricioso avaricioso güey tofu prometedores prometedores güey'"
      ]
     },
     "execution_count": 70,
     "metadata": {},
     "output_type": "execute_result"
    }
   ],
   "source": [
    "enc = Encoder(len(ds.list_src_word), 100, 100, 2)\n",
    "dec = Decoder(len(ds.list_trg_word), 100, 100, 2)\n",
    "translate('I am a student.', enc, dec)"
   ]
  },
  {
   "cell_type": "markdown",
   "metadata": {},
   "source": [
    "### <b style=\"color: #0eab81\">모델학습</b>"
   ]
  },
  {
   "cell_type": "code",
   "execution_count": null,
   "metadata": {},
   "outputs": [],
   "source": [
    "from statistics import mean\n",
    "\n",
    "def to2D(x):\n",
    "    shapes = x.shape\n",
    "    return x.reshape(shapes[0] * shapes[1], -1)\n",
    "\n",
    "for epoc in range(30):\n",
    "    enc.train(), dec.train()\n",
    "    losses = []"
   ]
  }
 ],
 "metadata": {
  "kernelspec": {
   "display_name": "torch",
   "language": "python",
   "name": "python3"
  },
  "language_info": {
   "codemirror_mode": {
    "name": "ipython",
    "version": 3
   },
   "file_extension": ".py",
   "mimetype": "text/x-python",
   "name": "python",
   "nbconvert_exporter": "python",
   "pygments_lexer": "ipython3",
   "version": "3.11.0rc1"
  }
 },
 "nbformat": 4,
 "nbformat_minor": 2
}
