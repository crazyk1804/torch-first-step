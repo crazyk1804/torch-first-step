{
 "cells": [
  {
   "cell_type": "markdown",
   "metadata": {},
   "source": [
    "### <b style=\"color: #0eab81\">RNN을 사용한 문장 생성</b>"
   ]
  },
  {
   "cell_type": "markdown",
   "metadata": {},
   "source": [
    "##### https://github.com/karpathy/char-rnn/tree/master/data/tinyshakespeare 에서 input.txt 다운로드"
   ]
  },
  {
   "cell_type": "code",
   "execution_count": 1,
   "metadata": {},
   "outputs": [],
   "source": [
    "import torch\n",
    "from torch import nn, optim\n",
    "from torch.utils.data import DataLoader, Dataset, TensorDataset\n",
    "from tqdm import tqdm"
   ]
  },
  {
   "cell_type": "code",
   "execution_count": 2,
   "metadata": {},
   "outputs": [
    {
     "name": "stdout",
     "output_type": "stream",
     "text": [
      "mps\n"
     ]
    }
   ],
   "source": [
    "from ck.env import get_device\n",
    "\n",
    "system_device = get_device()\n",
    "print(system_device)"
   ]
  },
  {
   "cell_type": "code",
   "execution_count": 3,
   "metadata": {},
   "outputs": [],
   "source": [
    "import string\n",
    "\n",
    "all_chars = string.printable\n",
    "dict_vocab = {c:i for i, c in enumerate(all_chars)}\n",
    "size_vocab = len(dict_vocab)\n",
    "\n",
    "\n",
    "def str2ints(s, dict_vocab):\n",
    "    return [dict_vocab[c] for c in s]\n",
    "\n",
    "\n",
    "def ints2str(a, list_vocab):\n",
    "    return ''.join([list_vocab[i] for i in a])"
   ]
  },
  {
   "cell_type": "code",
   "execution_count": 4,
   "metadata": {},
   "outputs": [],
   "source": [
    "class ShakespeareDataset(Dataset):\n",
    "    def __init__(self, path, dict_vocab, chunk_size=200):\n",
    "        self.dict_vocab = dict_vocab\n",
    "        data = str2ints(open(path).read().strip(), dict_vocab)\n",
    "        # chunk_size 단위의 크기로 data를 쪼개서 tuple로 만든다\n",
    "        data = torch.tensor(data, dtype=torch.int64).split(chunk_size)\n",
    "        \n",
    "        # 200이 안되는 사이즈는 버림(padding은 안하는가)\n",
    "        if len(data[-1]) < chunk_size:\n",
    "            data = data[:-1]\n",
    "            \n",
    "        self.data = data\n",
    "        self.n_chunks = len(self.data)\n",
    "        \n",
    "    def __len__(self):\n",
    "        return self.n_chunks\n",
    "    \n",
    "    def __getitem__(self, idx):\n",
    "        return self.data[idx]\n",
    "        "
   ]
  },
  {
   "cell_type": "code",
   "execution_count": 5,
   "metadata": {},
   "outputs": [],
   "source": [
    "path_data = 'data/tinyshakespeare/input.txt'\n",
    "ds = ShakespeareDataset(path_data, dict_vocab, chunk_size=200)\n",
    "loader = DataLoader(ds, batch_size=32, shuffle=True)"
   ]
  },
  {
   "cell_type": "code",
   "execution_count": 6,
   "metadata": {},
   "outputs": [],
   "source": [
    "class SequenceGenerationNet(nn.Module):\n",
    "    def __init__(\n",
    "        self,\n",
    "        num_embeddings,\n",
    "        embedding_dim=50,\n",
    "        hidden_size=50,\n",
    "        num_layers=1,\n",
    "        dropout=.2,\n",
    "        mode_test = False,\n",
    "    ):\n",
    "        super().__init__()\n",
    "        self.emb = nn.Embedding(num_embeddings, embedding_dim)\n",
    "        self.lstm = nn.LSTM(\n",
    "            embedding_dim,\n",
    "            hidden_size,\n",
    "            num_layers,\n",
    "            batch_first = True,\n",
    "            dropout = dropout,\n",
    "        )\n",
    "        self.linear = nn.Linear(hidden_size, num_embeddings)\n",
    "        self.mode_test = mode_test\n",
    "        if self.mode_test:\n",
    "            self.test()\n",
    "        \n",
    "    def forward(self, x, h0=None):\n",
    "        if self.mode_test:\n",
    "            print(x.shape)\n",
    "        x = self.emb(x)\n",
    "        if self.mode_test:\n",
    "            print(x.shape)\n",
    "        x, h = self.lstm(x, h0)\n",
    "        if self.mode_test:\n",
    "            print(x.shape)\n",
    "        x = self.linear(x)\n",
    "        if self.mode_test:\n",
    "            print(x.shape)\n",
    "        return x, h\n",
    "    \n",
    "    def test():\n",
    "        # for test\n",
    "        net = SequenceGenerationNet(size_vocab, 20)\n",
    "\n",
    "        result = []\n",
    "\n",
    "        sp = 'The King said '\n",
    "        ints = str2ints(sp, dict_vocab)\n",
    "        st = torch.tensor(ints, dtype=torch.int64)\n",
    "        x0 = st.unsqueeze(0)\n",
    "\n",
    "        o, (h_state, c_state) = net(x0)\n",
    "\n",
    "        print(f'x0: {x0.shape}')\n",
    "        print(f'o: {o.shape}')\n",
    "        print(f'h_state: {h_state.shape}')\n",
    "        print(f'c_state: {c_state.shape}')\n",
    "\n",
    "        out_dist = o[:, -1].view(-1).exp()\n",
    "        print(f'out_dist: {out_dist.shape}')\n",
    "        print(f'out_last: {o[:, -1].view(-1)}')\n",
    "        print(f'out_dist: {out_dist}')\n",
    "        top_i = torch.multinomial(out_dist, 1)[0]\n",
    "\n",
    "        result.append(top_i)\n",
    "\n",
    "        print(result)"
   ]
  },
  {
   "cell_type": "code",
   "execution_count": 70,
   "metadata": {},
   "outputs": [],
   "source": [
    "def generate_seq(net, start_phrase='The King said ', length=200, temperatur=.8, device='cpu'):\n",
    "    net.eval()\n",
    "    result = []\n",
    "    \n",
    "    start_tensor = torch.tensor(\n",
    "        str2ints(start_phrase, dict_vocab),\n",
    "        dtype=torch.int64\n",
    "    ).to(device)\n",
    "    \n",
    "    x0 = start_tensor.unsqueeze(0)\n",
    "    o, h = net(x0)\n",
    "    out_dist = o[:, -1].view(-1).exp() # 음수를 제거하기 위해 사용하는 듯\n",
    "    top_i = torch.multinomial(out_dist, 1)[0] # 다항분포를 사용하는데 다항분포를 몰라서 의미를 알수가 없다. softmax 방식을 써도 되는거 아닌가?\n",
    "    # top_i = o[:, -1].max(1)[1] # 안된다 존나 안된다 시발 뭔 상황인지 모르겠다. 같은것만 반복해서 나옴\n",
    "    result.append(top_i)\n",
    "    \n",
    "    for i in range(length):\n",
    "        inp = torch.tensor([[top_i]], dtype=torch.int64)\n",
    "        inp = inp.to(device)\n",
    "        o, h = net(inp, h)\n",
    "        out_dist = o.view(-1).exp()\n",
    "        top_i = torch.multinomial(out_dist, 1)[0]\n",
    "        # top_i = o[:, -1].max(1)[1]\n",
    "        \n",
    "        result.append(top_i)\n",
    "        \n",
    "    return start_phrase + ints2str(result, all_chars)"
   ]
  },
  {
   "cell_type": "markdown",
   "metadata": {},
   "source": [
    "### <b style=\"color: #0eab81\">Training</b>\n",
    "1. x는 chunk문장의 첫번째에서 마지막 문자의 하나 앞 문자까지 이용,  \n",
    "y는 2번째에서 마지막까지(x[:-1], x[1:])\n",
    "2. nn.CrossEntropyLoss는 2D(batch, dim)의 예측값이고  \n",
    "1D의 레이블 데이터만 사용할 수 있지만 이 RNN 모델에서는  \n",
    "예측값이 3D(batch, step, dim)이고 레이블이 2D(batch, step)이므로  \n",
    "view를 이용해서 batch와 step을 통합해서 전달한다  \n",
    "**(난 이게 뭔소린지 도무지 이해를 못하겠다)**"
   ]
  },
  {
   "cell_type": "code",
   "execution_count": 67,
   "metadata": {},
   "outputs": [
    {
     "name": "stdout",
     "output_type": "stream",
     "text": [
      "The King said +++++++++++++++++++++++++++++++++++++++++++++++++++++++++++++++++++++++++++++++++++++++++++++++++++++++++++++++++++++++++++++++++++++++++++++++++++++++++++++++++++++++++++++++++++++++++++++++++++++++++\n"
     ]
    },
    {
     "name": "stderr",
     "output_type": "stream",
     "text": [
      "100%|██████████| 175/175 [00:03<00:00, 44.10it/s, epoch=0, step=174]\n",
      "100%|██████████| 175/175 [00:03<00:00, 44.31it/s, epoch=1, step=174]\n",
      "100%|██████████| 175/175 [00:03<00:00, 44.44it/s, epoch=2, step=174]\n",
      "100%|██████████| 175/175 [00:03<00:00, 44.49it/s, epoch=3, step=174]\n",
      "100%|██████████| 175/175 [00:03<00:00, 44.39it/s, epoch=4, step=174]\n",
      "100%|██████████| 175/175 [00:03<00:00, 44.30it/s, epoch=5, step=174]\n",
      "100%|██████████| 175/175 [00:03<00:00, 44.47it/s, epoch=6, step=174]\n",
      "100%|██████████| 175/175 [00:03<00:00, 44.24it/s, epoch=7, step=174]\n",
      "100%|██████████| 175/175 [00:03<00:00, 44.38it/s, epoch=8, step=174]\n",
      "100%|██████████| 175/175 [00:03<00:00, 44.43it/s, epoch=9, step=174]\n",
      "100%|██████████| 175/175 [00:03<00:00, 44.32it/s, epoch=10, step=174]\n",
      "100%|██████████| 175/175 [00:03<00:00, 44.49it/s, epoch=11, step=174]\n",
      "100%|██████████| 175/175 [00:03<00:00, 44.19it/s, epoch=12, step=174]\n",
      "100%|██████████| 175/175 [00:03<00:00, 44.33it/s, epoch=13, step=174]\n",
      "100%|██████████| 175/175 [00:03<00:00, 44.02it/s, epoch=14, step=174]\n",
      "100%|██████████| 175/175 [00:03<00:00, 44.35it/s, epoch=15, step=174]\n",
      "100%|██████████| 175/175 [00:03<00:00, 44.44it/s, epoch=16, step=174]\n",
      "100%|██████████| 175/175 [00:03<00:00, 44.33it/s, epoch=17, step=174]\n",
      "100%|██████████| 175/175 [00:03<00:00, 44.35it/s, epoch=18, step=174]\n",
      "100%|██████████| 175/175 [00:03<00:00, 44.31it/s, epoch=19, step=174]\n",
      "100%|██████████| 175/175 [00:03<00:00, 44.36it/s, epoch=20, step=174]\n",
      "100%|██████████| 175/175 [00:03<00:00, 44.11it/s, epoch=21, step=174]\n",
      "100%|██████████| 175/175 [00:03<00:00, 44.43it/s, epoch=22, step=174]\n",
      "100%|██████████| 175/175 [00:03<00:00, 44.15it/s, epoch=23, step=174]\n",
      "100%|██████████| 175/175 [00:03<00:00, 44.24it/s, epoch=24, step=174]\n",
      "100%|██████████| 175/175 [00:03<00:00, 44.14it/s, epoch=25, step=174]\n",
      "100%|██████████| 175/175 [00:03<00:00, 44.13it/s, epoch=26, step=174]\n",
      "100%|██████████| 175/175 [00:03<00:00, 44.27it/s, epoch=27, step=174]\n",
      "100%|██████████| 175/175 [00:03<00:00, 44.17it/s, epoch=28, step=174]\n",
      "100%|██████████| 175/175 [00:03<00:00, 44.01it/s, epoch=29, step=174]\n",
      "100%|██████████| 175/175 [00:03<00:00, 44.25it/s, epoch=30, step=174]\n",
      "100%|██████████| 175/175 [00:03<00:00, 44.12it/s, epoch=31, step=174]\n",
      "100%|██████████| 175/175 [00:03<00:00, 44.32it/s, epoch=32, step=174]\n",
      "100%|██████████| 175/175 [00:04<00:00, 42.23it/s, epoch=33, step=174]\n",
      "100%|██████████| 175/175 [00:03<00:00, 43.88it/s, epoch=34, step=174]\n",
      "100%|██████████| 175/175 [00:03<00:00, 43.80it/s, epoch=35, step=174]\n",
      "100%|██████████| 175/175 [00:04<00:00, 43.64it/s, epoch=36, step=174]\n",
      "100%|██████████| 175/175 [00:04<00:00, 43.72it/s, epoch=37, step=174]\n",
      "100%|██████████| 175/175 [00:04<00:00, 43.66it/s, epoch=38, step=174]\n",
      "100%|██████████| 175/175 [00:03<00:00, 43.79it/s, epoch=39, step=174]\n",
      "100%|██████████| 175/175 [00:04<00:00, 41.16it/s, epoch=40, step=174]\n",
      "100%|██████████| 175/175 [00:04<00:00, 42.96it/s, epoch=41, step=174]\n",
      "100%|██████████| 175/175 [00:04<00:00, 43.70it/s, epoch=42, step=174]\n",
      "100%|██████████| 175/175 [00:04<00:00, 41.85it/s, epoch=43, step=174]\n",
      "100%|██████████| 175/175 [00:04<00:00, 43.70it/s, epoch=44, step=174]\n",
      "100%|██████████| 175/175 [00:04<00:00, 42.59it/s, epoch=45, step=174]\n",
      "100%|██████████| 175/175 [00:04<00:00, 43.55it/s, epoch=46, step=174]\n",
      "100%|██████████| 175/175 [00:04<00:00, 43.63it/s, epoch=47, step=174]\n",
      "100%|██████████| 175/175 [00:04<00:00, 43.62it/s, epoch=48, step=174]\n",
      "100%|██████████| 175/175 [00:04<00:00, 43.60it/s, epoch=49, step=174]\n"
     ]
    },
    {
     "name": "stdout",
     "output_type": "stream",
     "text": [
      "The King said serlal yole till till till till till till till till till till till till till till till till till till till till till till till till till till till till till till till till till till till till till till\n"
     ]
    }
   ],
   "source": [
    "from statistics import mean\n",
    "\n",
    "import pandas as pd\n",
    "\n",
    "net = SequenceGenerationNet(size_vocab, 20, 50, num_layers=2, dropout=.1)\n",
    "net.to(system_device)\n",
    "opt = optim.Adam(net.parameters())\n",
    "loss_f = nn.CrossEntropyLoss()\n",
    "\n",
    "with torch.no_grad():\n",
    "    print(generate_seq(net, device=system_device))\n",
    "\n",
    "df_history = pd.DataFrame(columns=['epoch', 'step', 'loss'])\n",
    "for epoch in range(50):\n",
    "    net.train()\n",
    "    losses = []\n",
    "    bar = tqdm(enumerate(loader), total=len(loader))\n",
    "    for i, data in bar:\n",
    "        bar.set_postfix({'epoch': epoch, 'step': i})\n",
    "        x = data[:, :-1].to(system_device)\n",
    "        y = data[:, 1:].to(system_device)\n",
    "        \n",
    "        net.zero_grad()\n",
    "        y_pred, _ = net(x)\n",
    "        loss = loss_f(y_pred.view(-1, size_vocab), y.view(-1))\n",
    "        loss.backward()\n",
    "        opt.step()\n",
    "        losses.append(loss.item())\n",
    "        df_history.loc[len(df_history)] = [epoch, i, loss.item()]\n",
    "        \n",
    "    # print(epoch, mean(losses))\n",
    "    \n",
    "with torch.no_grad():\n",
    "        print(generate_seq(net, device=system_device))\n",
    "    "
   ]
  },
  {
   "cell_type": "code",
   "execution_count": 69,
   "metadata": {},
   "outputs": [
    {
     "data": {
      "text/plain": [
       "\"The King said tial, sacpnand try tay incusile dathes'arcratyer brgespasentytieriselss to nassy,, dangince fefl,ly, callinged's bsitpmisfelks: tintlalmsmersibess yre slare britilurn, selr yoless, beccessur arl entles\""
      ]
     },
     "execution_count": 69,
     "metadata": {},
     "output_type": "execute_result"
    }
   ],
   "source": [
    "generate_seq(net, device=system_device)"
   ]
  },
  {
   "cell_type": "code",
   "execution_count": 17,
   "metadata": {},
   "outputs": [
    {
     "data": {
      "text/plain": [
       "<Axes: >"
      ]
     },
     "execution_count": 17,
     "metadata": {},
     "output_type": "execute_result"
    },
    {
     "data": {
      "image/png": "[encoded data removed]",
      "text/plain": [
       "<Figure size 640x480 with 1 Axes>"
      ]
     },
     "metadata": {},
     "output_type": "display_data"
    }
   ],
   "source": [
    "df_history.drop(['epoch', 'step'], axis=1).plot()"
   ]
  },
  {
   "cell_type": "code",
   "execution_count": 36,
   "metadata": {},
   "outputs": [],
   "source": [
    "start_phrase = 'The King said '\n",
    "st = torch.tensor(str2ints(start_phrase, dict_vocab), dtype=torch.int64).to(system_device)\n",
    "\n",
    "x0 = st.unsqueeze(0)\n",
    "o, h = net(x0)"
   ]
  },
  {
   "cell_type": "code",
   "execution_count": 57,
   "metadata": {},
   "outputs": [
    {
     "data": {
      "text/plain": [
       "torch.Size([1, 14, 100])"
      ]
     },
     "execution_count": 57,
     "metadata": {},
     "output_type": "execute_result"
    }
   ],
   "source": [
    "o.shape"
   ]
  },
  {
   "cell_type": "code",
   "execution_count": 65,
   "metadata": {},
   "outputs": [
    {
     "data": {
      "text/plain": [
       "torch.return_types.max(\n",
       "values=tensor([5.4652], device='mps:0', grad_fn=<MaxBackward0>),\n",
       "indices=tensor([29], device='mps:0'))"
      ]
     },
     "execution_count": 65,
     "metadata": {},
     "output_type": "execute_result"
    }
   ],
   "source": [
    "o[:, -1].max(1)"
   ]
  },
  {
   "cell_type": "code",
   "execution_count": 52,
   "metadata": {},
   "outputs": [
    {
     "data": {
      "text/plain": [
       "tensor([29], device='mps:0')"
      ]
     },
     "execution_count": 52,
     "metadata": {},
     "output_type": "execute_result"
    }
   ],
   "source": [
    "o[:, -1].max(1)[1]\n"
   ]
  },
  {
   "cell_type": "code",
   "execution_count": 35,
   "metadata": {},
   "outputs": [
    {
     "name": "stdout",
     "output_type": "stream",
     "text": [
      "tensor(3.9855, device='mps:0', grad_fn=<SelectBackward0>)\n",
      "tensor(3.9855, device='mps:0', grad_fn=<SelectBackward0>)\n"
     ]
    }
   ],
   "source": [
    "print(result[0])\n",
    "print(y_pred[0][0][29])"
   ]
  },
  {
   "cell_type": "code",
   "execution_count": null,
   "metadata": {},
   "outputs": [],
   "source": []
  }
 ],
 "metadata": {
  "kernelspec": {
   "display_name": "torch",
   "language": "python",
   "name": "python3"
  },
  "language_info": {
   "codemirror_mode": {
    "name": "ipython",
    "version": 3
   },
   "file_extension": ".py",
   "mimetype": "text/x-python",
   "name": "python",
   "nbconvert_exporter": "python",
   "pygments_lexer": "ipython3",
   "version": "3.8.18"
  }
 },
 "nbformat": 4,
 "nbformat_minor": 2
}
